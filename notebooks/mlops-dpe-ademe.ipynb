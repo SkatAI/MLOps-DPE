{
  "nbformat": 4,
  "nbformat_minor": 0,
  "metadata": {
    "colab": {
      "provenance": [],
      "toc_visible": true
    },
    "kernelspec": {
      "name": "python3",
      "display_name": "Python 3"
    },
    "language_info": {
      "name": "python"
    }
  },
  "cells": [
    {
      "cell_type": "markdown",
      "source": [
        "# Projet MLOps - DPE\n",
        "\n",
        "Voici le premier notebook du projet de construction d'un pipeline de modelsation predictive autour du dataset de l'[ADEME](https://www.ademe.fr/), le [DPE Tertiaire](https://data.ademe.fr/datasets/dpe-v2-tertiaire-2).\n",
        "\n",
        "Ce notebook correpond au chapitre 2 du projet disponible sur [htts://skatai.com/mlops-dpe](htts://skatai.com/mlops-dpe).\n",
        "\n",
        "SkatAI.com est un recueil de projets appliqués en IA et data science.\n",
        "\n",
        "Le projet MLOps-DPE consiste a transformer un notebook classique de data science comprennant la transformation et numerisataion des données en un pipeline complet de production avec Airflow, MLFlow et FastAI.\n",
        "\n",
        "Voici donc le premier notebook qui sert de point de depart a la suite du projet\n",
        "\n",
        "Ce notebook est volontairement conçu comme etant assez simple et direct.\n",
        "\n",
        "Les etapes sont les suivantes:\n",
        "\n",
        "- charger les données a partir du site ADEME dans un dataframe pandas\n",
        "- nettoyer les données : valeurs manquantes, aberrantes et surtout categorisation\n",
        "- entrainer un modele random forest simple avec sckit-learn et gridsearch CV\n",
        "- observer les metriques: precision, recall et score AUC ainsi que la matrice de classification\n",
        "- sauver le modele une fois entrainé dans un fichier pickle\n"
      ],
      "metadata": {
        "id": "aSirtbiOpEDU"
      }
    },
    {
      "cell_type": "code",
      "execution_count": null,
      "metadata": {
        "id": "Qp0qYpHfjqvF"
      },
      "outputs": [],
      "source": [
        "# importer les librairies\n",
        "import pandas as pd\n",
        "import numpy as np\n",
        "import re\n",
        "import datetime\n",
        "from collections import Counter"
      ]
    },
    {
      "cell_type": "markdown",
      "source": [
        "### Charger le dataset\n",
        "À partir de l'url sur le site de l'ADEME"
      ],
      "metadata": {
        "id": "G5aoKzMqvftc"
      }
    },
    {
      "cell_type": "code",
      "source": [
        "# le fichier sur trouve a cette URL:\n",
        "url = \"https://data.ademe.fr/data-fair/api/v1/datasets/dpe-v2-tertiaire-2/lines?size=10000&format=csv&after=10000%2C965634&header=true\"\n",
        "\n",
        "# on le charge directement dans une dataframe Pandas\n",
        "data = pd.read_csv(url)\n",
        "print(data.shape)"
      ],
      "metadata": {
        "colab": {
          "base_uri": "https://localhost:8080/"
        },
        "id": "EHrFZWUNmIdk",
        "outputId": "c0a63e8c-2aaa-4083-bdf1-2fe94a7fe649"
      },
      "execution_count": null,
      "outputs": [
        {
          "output_type": "stream",
          "name": "stdout",
          "text": [
            "(10000, 63)\n"
          ]
        }
      ]
    },
    {
      "cell_type": "markdown",
      "source": [
        "Le dataset fait 10.000 echantillons mais comme nous verrons de nombreux n'ont pas d'etiquettes DPE et ne peuvent donc pas etre utilisé pour entrainer un modele."
      ],
      "metadata": {
        "id": "UDbYRxqnYEwL"
      }
    },
    {
      "cell_type": "markdown",
      "source": [
        "## Exploration rapide\n",
        "On va surtout s'attacher à remplacer les valeurs manquantes et a numeriser les categories.\n",
        "\n",
        "Nous supprimons un grand nombre de variables qui pourraient se reveler tout a fait pertinentes mais dans le contexte du projet MLOP-DPE ne sont pas utiles. Entre autres les variables liées à la localisation des batiments."
      ],
      "metadata": {
        "id": "ccUgWvGLvvgn"
      }
    },
    {
      "cell_type": "code",
      "source": [
        "print(data.columns)"
      ],
      "metadata": {
        "colab": {
          "base_uri": "https://localhost:8080/"
        },
        "id": "HlvbRdo5mVCC",
        "outputId": "982595fc-aa39-4798-df23-ef591e30384d"
      },
      "execution_count": null,
      "outputs": [
        {
          "output_type": "stream",
          "name": "stdout",
          "text": [
            "Index(['N°DPE', 'Date_réception_DPE', 'Date_établissement_DPE',\n",
            "       'Date_visite_diagnostiqueur', 'Modèle_DPE', 'N°_DPE_remplacé',\n",
            "       'Date_fin_validité_DPE', 'Version_DPE', 'N°_DPE_immeuble_associé',\n",
            "       'Méthode_du_DPE', 'N°_immatriculation_copropriété',\n",
            "       'Invariant_fiscal_logement', 'Etiquette_DPE', 'Etiquette_GES',\n",
            "       'Conso_kWhep/m²/an', 'Emission_GES_kgCO2/m²/an', 'Année_construction',\n",
            "       'Catégorie_ERP', 'Période_construction', 'Secteur_activité',\n",
            "       'Nombre_occupant', 'Surface_(SHON)', 'Surface_utile',\n",
            "       'Type_énergie_principale_chauffage', 'Adresse_brute',\n",
            "       'Nom__commune_(BAN)', 'Code_INSEE_(BAN)', 'N°_voie_(BAN)',\n",
            "       'Identifiant__BAN', 'Adresse_(BAN)', 'Code_postal_(BAN)', 'Score_BAN',\n",
            "       'Nom__rue_(BAN)', 'Coordonnée_cartographique_X_(BAN)',\n",
            "       'Coordonnée_cartographique_Y_(BAN)', 'Code_postal_(brut)',\n",
            "       'N°_étage_appartement', 'Nom_résidence',\n",
            "       'Complément_d'adresse_bâtiment', 'Cage_d'escalier',\n",
            "       'Complément_d'adresse_logement', 'Statut_géocodage',\n",
            "       'Nom__commune_(Brut)', 'N°_département_(BAN)', 'N°_région_(BAN)',\n",
            "       'Conso_é_finale_énergie_n°1', 'Conso_é_primaire_énergie_n°1',\n",
            "       'Type_énergie_n°1', 'Type_usage_énergie_n°1',\n",
            "       'Frais_annuel_énergie_n°1', 'Année_relève_conso_énergie_n°1',\n",
            "       'Conso_é_finale_énergie_n°2', 'Conso_é_primaire_énergie_n°2',\n",
            "       'Type_énergie_n°2', 'Type_usage_énergie_n°2',\n",
            "       'Frais_annuel_énergie_n°2', 'Année_relève_conso_énergie_n°2',\n",
            "       'Conso_é_finale_énergie_n°3', 'Conso_é_primaire_énergie_n°3',\n",
            "       'Type_énergie_n°3', 'Type_usage_énergie_n°3',\n",
            "       'Frais_annuel_énergie_n°3', 'Année_relève_conso_énergie_n°3'],\n",
            "      dtype='object')\n"
          ]
        }
      ]
    },
    {
      "cell_type": "markdown",
      "source": [
        "#### Renommer les colonnes\n",
        "\n",
        "Les noms des variables sont partiiculierement alambiquées avec des signes degres, des parentheses, des / etc ... il vaut mieux standardirser tout cela et renommer les colonnes en minuscule avec un alphabet simplifé.\n",
        "\n",
        "par exemple\n",
        "\n",
        "- N°DPE -> n_dpe\n",
        "- Conso_kWhep/m²/an -> conso_kwhep_m2_an\n",
        "- N°_département_(BAN) -> n_departement_ban\n",
        "\n",
        "\n",
        "On utilise une serie de regex pour transformer les noms dans la fonction _rename_columns_"
      ],
      "metadata": {
        "id": "3SqNKL4Gwva9"
      }
    },
    {
      "cell_type": "code",
      "source": [
        "def rename_columns(columns):\n",
        "    # en minuscule\n",
        "    columns = [col.lower() for col in columns]\n",
        "    # regex de remplacement\n",
        "    rgxs = [\n",
        "        (r\"[°|/|']\", \"_\"),\n",
        "        (r\"²\", \"2\"),\n",
        "        (r\"[(|)]\", \"\"),\n",
        "        (r\"é|è\", \"e\"),\n",
        "        (r\"_+\", \"_\"),\n",
        "    ]\n",
        "    # on remplace toutes les colonnes une par une\n",
        "    for rgx in rgxs:\n",
        "        columns = [re.sub(rgx[0], rgx[1], col) for col in columns]\n",
        "\n",
        "    return columns\n"
      ],
      "metadata": {
        "id": "f51MaVIpnBQt"
      },
      "execution_count": null,
      "outputs": []
    },
    {
      "cell_type": "code",
      "source": [
        "data.columns = rename_columns(data.columns)"
      ],
      "metadata": {
        "id": "p8WHqlubnJ1a"
      },
      "execution_count": null,
      "outputs": []
    },
    {
      "cell_type": "markdown",
      "source": [
        "ce qui donne maintenant des noms de colonnes bien plus simples"
      ],
      "metadata": {
        "id": "nV1ZQgUZxLmZ"
      }
    },
    {
      "cell_type": "code",
      "source": [
        "data.columns"
      ],
      "metadata": {
        "colab": {
          "base_uri": "https://localhost:8080/"
        },
        "id": "NU2XUHZexN8v",
        "outputId": "6aa86036-5866-42ea-bf47-481aab20ad68"
      },
      "execution_count": null,
      "outputs": [
        {
          "output_type": "execute_result",
          "data": {
            "text/plain": [
              "Index(['n_dpe', 'date_reception_dpe', 'date_etablissement_dpe',\n",
              "       'date_visite_diagnostiqueur', 'modele_dpe', 'n_dpe_remplace',\n",
              "       'date_fin_validite_dpe', 'version_dpe', 'n_dpe_immeuble_associe',\n",
              "       'methode_du_dpe', 'n_immatriculation_copropriete',\n",
              "       'invariant_fiscal_logement', 'etiquette_dpe', 'etiquette_ges',\n",
              "       'conso_kwhep_m2_an', 'emission_ges_kgco2_m2_an', 'annee_construction',\n",
              "       'categorie_erp', 'periode_construction', 'secteur_activite',\n",
              "       'nombre_occupant', 'surface_shon', 'surface_utile',\n",
              "       'type_energie_principale_chauffage', 'adresse_brute', 'nom_commune_ban',\n",
              "       'code_insee_ban', 'n_voie_ban', 'identifiant_ban', 'adresse_ban',\n",
              "       'code_postal_ban', 'score_ban', 'nom_rue_ban',\n",
              "       'coordonnee_cartographique_x_ban', 'coordonnee_cartographique_y_ban',\n",
              "       'code_postal_brut', 'n_etage_appartement', 'nom_residence',\n",
              "       'complement_d_adresse_bâtiment', 'cage_d_escalier',\n",
              "       'complement_d_adresse_logement', 'statut_geocodage', 'nom_commune_brut',\n",
              "       'n_departement_ban', 'n_region_ban', 'conso_e_finale_energie_n_1',\n",
              "       'conso_e_primaire_energie_n_1', 'type_energie_n_1',\n",
              "       'type_usage_energie_n_1', 'frais_annuel_energie_n_1',\n",
              "       'annee_releve_conso_energie_n_1', 'conso_e_finale_energie_n_2',\n",
              "       'conso_e_primaire_energie_n_2', 'type_energie_n_2',\n",
              "       'type_usage_energie_n_2', 'frais_annuel_energie_n_2',\n",
              "       'annee_releve_conso_energie_n_2', 'conso_e_finale_energie_n_3',\n",
              "       'conso_e_primaire_energie_n_3', 'type_energie_n_3',\n",
              "       'type_usage_energie_n_3', 'frais_annuel_energie_n_3',\n",
              "       'annee_releve_conso_energie_n_3'],\n",
              "      dtype='object')"
            ]
          },
          "metadata": {},
          "execution_count": 141
        }
      ]
    },
    {
      "cell_type": "markdown",
      "source": [
        "### Les valeurs manquantes\n",
        "Traitons tout d'abord les valeurs de la cible, puis les valeurs numeriqes (float et int)\n"
      ],
      "metadata": {
        "id": "DDZi8XOzxP5a"
      }
    },
    {
      "cell_type": "code",
      "source": [
        "target = \"etiquette_dpe\"\n",
        "data.dropna(subset=target, inplace=True)\n"
      ],
      "metadata": {
        "id": "8kqpNKGlnK9O"
      },
      "execution_count": null,
      "outputs": []
    },
    {
      "cell_type": "markdown",
      "source": [
        "Il reste beaucoup moins d'echantillons (~55%)"
      ],
      "metadata": {
        "id": "XwGrbwxkxc2D"
      }
    },
    {
      "cell_type": "code",
      "source": [
        "data.shape"
      ],
      "metadata": {
        "colab": {
          "base_uri": "https://localhost:8080/"
        },
        "id": "St8b4nEVxkIh",
        "outputId": "a1224024-de19-45c6-bcf4-435f21740ee3"
      },
      "execution_count": null,
      "outputs": [
        {
          "output_type": "execute_result",
          "data": {
            "text/plain": [
              "(5553, 63)"
            ]
          },
          "metadata": {},
          "execution_count": 143
        }
      ]
    },
    {
      "cell_type": "markdown",
      "source": [
        "#### Les valeurs floats et int\n",
        "\n",
        "On defini les colonnes floats et les colonnes int\n",
        "\n",
        "Toutes le valeurs numeriques sont positives. On va remplaces les valeurs manquantes par un -1.0 et les valeurs int par un -1\n",
        "\n",
        "Il n'y a pas vraiment besoin d'avoir une grande precision p[our les valeusr floats.\n",
        "On va donc tout convertir en type int\n",
        "\n",
        "Mais definissons d'abord les colonnes floats puis et int"
      ],
      "metadata": {
        "id": "CoURf_8Sxi30"
      }
    },
    {
      "cell_type": "code",
      "source": [
        "columns_float = [\n",
        "    \"conso_kwhep_m2_an\",\n",
        "    \"emission_ges_kgco2_m2_an\",\n",
        "    \"surface_utile\",\n",
        "    \"conso_e_finale_energie_n_1\",\n",
        "    \"conso_e_primaire_energie_n_1\",\n",
        "    \"frais_annuel_energie_n_1\",\n",
        "    \"conso_e_finale_energie_n_2\",\n",
        "    \"conso_e_primaire_energie_n_2\",\n",
        "    \"frais_annuel_energie_n_2\",\n",
        "    \"conso_e_finale_energie_n_3\",\n",
        "    \"conso_e_primaire_energie_n_3\",\n",
        "    \"frais_annuel_energie_n_3\",\n",
        "]\n",
        "\n",
        "for col in columns_float:\n",
        "    data[col].fillna(-1.0, inplace=True)\n",
        "    data[col] = data[col].astype(int)\n"
      ],
      "metadata": {
        "id": "nvx3djxuyZld"
      },
      "execution_count": null,
      "outputs": []
    },
    {
      "cell_type": "code",
      "source": [
        "# puis les int\n",
        "columns_int = [\n",
        "    \"annee_construction\",\n",
        "    \"nombre_occupant\",\n",
        "    \"n_etage_appartement\",\n",
        "]\n",
        "\n",
        "for col in columns_int:\n",
        "    data[col].fillna(-1, inplace=True)\n",
        "    data[col] = data[col].astype(int)\n"
      ],
      "metadata": {
        "id": "MOPCX8iiyqmO"
      },
      "execution_count": null,
      "outputs": []
    },
    {
      "cell_type": "code",
      "source": [
        "data.info()\n"
      ],
      "metadata": {
        "colab": {
          "base_uri": "https://localhost:8080/"
        },
        "id": "Wxca2-4SZUWw",
        "outputId": "e23e7fcb-1c5e-4984-933a-30717aa9d490"
      },
      "execution_count": null,
      "outputs": [
        {
          "output_type": "stream",
          "name": "stdout",
          "text": [
            "<class 'pandas.core.frame.DataFrame'>\n",
            "Index: 5553 entries, 4 to 9999\n",
            "Data columns (total 63 columns):\n",
            " #   Column                             Non-Null Count  Dtype  \n",
            "---  ------                             --------------  -----  \n",
            " 0   n_dpe                              5553 non-null   object \n",
            " 1   date_reception_dpe                 5553 non-null   object \n",
            " 2   date_etablissement_dpe             5553 non-null   object \n",
            " 3   date_visite_diagnostiqueur         5553 non-null   object \n",
            " 4   modele_dpe                         5553 non-null   object \n",
            " 5   n_dpe_remplace                     440 non-null    object \n",
            " 6   date_fin_validite_dpe              5553 non-null   object \n",
            " 7   version_dpe                        5553 non-null   float64\n",
            " 8   n_dpe_immeuble_associe             24 non-null     object \n",
            " 9   methode_du_dpe                     5292 non-null   object \n",
            " 10  n_immatriculation_copropriete      16 non-null     object \n",
            " 11  invariant_fiscal_logement          18 non-null     object \n",
            " 12  etiquette_dpe                      5553 non-null   object \n",
            " 13  etiquette_ges                      5553 non-null   object \n",
            " 14  conso_kwhep_m2_an                  5553 non-null   int64  \n",
            " 15  emission_ges_kgco2_m2_an           5553 non-null   int64  \n",
            " 16  annee_construction                 5553 non-null   int64  \n",
            " 17  categorie_erp                      4374 non-null   object \n",
            " 18  periode_construction               5553 non-null   object \n",
            " 19  secteur_activite                   5553 non-null   object \n",
            " 20  nombre_occupant                    5553 non-null   int64  \n",
            " 21  surface_shon                       4534 non-null   float64\n",
            " 22  surface_utile                      5553 non-null   int64  \n",
            " 23  type_energie_principale_chauffage  1042 non-null   object \n",
            " 24  adresse_brute                      5552 non-null   object \n",
            " 25  nom_commune_ban                    5541 non-null   object \n",
            " 26  code_insee_ban                     5541 non-null   object \n",
            " 27  n_voie_ban                         4424 non-null   object \n",
            " 28  identifiant_ban                    5541 non-null   object \n",
            " 29  adresse_ban                        5541 non-null   object \n",
            " 30  code_postal_ban                    5541 non-null   float64\n",
            " 31  score_ban                          5541 non-null   float64\n",
            " 32  nom_rue_ban                        5020 non-null   object \n",
            " 33  coordonnee_cartographique_x_ban    5541 non-null   float64\n",
            " 34  coordonnee_cartographique_y_ban    5541 non-null   float64\n",
            " 35  code_postal_brut                   5553 non-null   int64  \n",
            " 36  n_etage_appartement                5553 non-null   int64  \n",
            " 37  nom_residence                      558 non-null    object \n",
            " 38  complement_d_adresse_bâtiment      2362 non-null   object \n",
            " 39  cage_d_escalier                    43 non-null     object \n",
            " 40  complement_d_adresse_logement      2022 non-null   object \n",
            " 41  statut_geocodage                   5553 non-null   object \n",
            " 42  nom_commune_brut                   5552 non-null   object \n",
            " 43  n_departement_ban                  5535 non-null   object \n",
            " 44  n_region_ban                       5535 non-null   float64\n",
            " 45  conso_e_finale_energie_n_1         5553 non-null   int64  \n",
            " 46  conso_e_primaire_energie_n_1       5553 non-null   int64  \n",
            " 47  type_energie_n_1                   5504 non-null   object \n",
            " 48  type_usage_energie_n_1             5504 non-null   object \n",
            " 49  frais_annuel_energie_n_1           5553 non-null   int64  \n",
            " 50  annee_releve_conso_energie_n_1     5022 non-null   float64\n",
            " 51  conso_e_finale_energie_n_2         5553 non-null   int64  \n",
            " 52  conso_e_primaire_energie_n_2       5553 non-null   int64  \n",
            " 53  type_energie_n_2                   2132 non-null   object \n",
            " 54  type_usage_energie_n_2             2132 non-null   object \n",
            " 55  frais_annuel_energie_n_2           5553 non-null   int64  \n",
            " 56  annee_releve_conso_energie_n_2     1913 non-null   float64\n",
            " 57  conso_e_finale_energie_n_3         5553 non-null   int64  \n",
            " 58  conso_e_primaire_energie_n_3       5553 non-null   int64  \n",
            " 59  type_energie_n_3                   889 non-null    object \n",
            " 60  type_usage_energie_n_3             889 non-null    object \n",
            " 61  frais_annuel_energie_n_3           5553 non-null   int64  \n",
            " 62  annee_releve_conso_energie_n_3     725 non-null    float64\n",
            "dtypes: float64(10), int64(16), object(37)\n",
            "memory usage: 2.7+ MB\n"
          ]
        }
      ]
    },
    {
      "cell_type": "markdown",
      "source": [
        "### Ne garder qu'un minimum de colonnes\n",
        "\n",
        "Voici les colonnes que nous allons garder au final\n",
        "libre a vous de modifier cette liste si vous preferez.\n",
        "\n",
        "\n"
      ],
      "metadata": {
        "id": "WkxU3g9igae9"
      }
    },
    {
      "cell_type": "code",
      "source": [
        "columns_categorical = [\n",
        "    \"periode_construction\",\n",
        "    \"secteur_activite\",\n",
        "    \"type_energie_principale_chauffage\",\n",
        "    \"type_energie_n_1\",\n",
        "    \"type_usage_energie_n_1\",\n",
        "]\n",
        "\n",
        "columns_num = [\n",
        "    \"version_dpe\",\n",
        "    \"surface_utile\",\n",
        "    \"conso_kwhep_m2_an\",\n",
        "    \"conso_e_finale_energie_n_1\",\n",
        "    \"version_dpe\",\n",
        "]\n",
        "\n",
        "train_columns = [\n",
        "    \"version_dpe\",\n",
        "    \"periode_construction\",\n",
        "    \"secteur_activite\",\n",
        "    \"type_energie_principale_chauffage\",\n",
        "    \"type_energie_n_1\",\n",
        "    \"type_usage_energie_n_1\",\n",
        "    \"surface_utile\",\n",
        "    \"conso_kwhep_m2_an\",\n",
        "    \"conso_e_finale_energie_n_1\",\n",
        "]\n",
        "\n",
        "\n",
        "target = 'etiquette_dpe'\n",
        "id = 'n_dpe'"
      ],
      "metadata": {
        "id": "maxUZxG7gwPW"
      },
      "execution_count": null,
      "outputs": []
    },
    {
      "cell_type": "markdown",
      "source": [
        "## Valeurs manquantes\n",
        "\n",
        "Par convention les valeurs manquates categoriques sont mises a \"\" et les float et int ont la valeur -1\n"
      ],
      "metadata": {
        "id": "MX3mMBs9jn2D"
      }
    },
    {
      "cell_type": "code",
      "source": [
        "for col in columns_categorical:\n",
        "    data[col].fillna(\"\", inplace=True)\n",
        "\n",
        "for col in columns_num:\n",
        "    data[col].fillna(-1, inplace=True)\n",
        "    data.loc[data[col] == \"\", col] = -1.0\n",
        "\n"
      ],
      "metadata": {
        "id": "FAcrswJCj0rR"
      },
      "execution_count": null,
      "outputs": []
    },
    {
      "cell_type": "markdown",
      "source": [
        "### Colonnes categoriques\n",
        "\n",
        "Il y a plein de methodes pour encoder des valeurs numeriques: ont hot encoding, ordinal encoding, binary encoding\n",
        "\n",
        "La librairie [binary encoder](https://pypi.org/project/category-encoders/) offre de nombreuses methodes.\n",
        "\n",
        "Dans notre contexte, on va simplement assigner une valeur entiere par categorie. Ouh làlà vous mme direz ?! Cela va rajoutez un information dans les données en ordonnant les valeurs alors qu'elles en sont pas ordonnées initialement (non ordinale)\n",
        "\n",
        "En effet. cependant dans mon experience cela ne changera pas grand chose par rapport au d'autres methodes comme le one hot encoding ou binary encoder. par contre en va gagner en siimplicité.\n",
        "\n",
        "Cependant pour que l'ordre ai un sens nous pouvons classer les categories non pas cpar ordre alphabetique mais par ordre de leur frequence dans les données. cela nou permettra de regrouper les valeurs moins frequentes (la longue **tail** des data) ensemble et de les regrouper ensemble.\n",
        "\n",
        "\n",
        "Pour cela nous allons simplement regarder la frequence des categories avec _Counter_ pour les différentes valeurs pour chqaue categorie et ecrire a la main le dictionnaire de conversion"
      ],
      "metadata": {
        "id": "XhDYtnSqywpR"
      }
    },
    {
      "cell_type": "code",
      "source": [
        "def frequence(col):\n",
        "    categories = Counter(data[col])\n",
        "    print(categories.most_common())\n"
      ],
      "metadata": {
        "id": "YkiWmUPN0Bex"
      },
      "execution_count": null,
      "outputs": []
    },
    {
      "cell_type": "markdown",
      "source": [
        "Ce qui donne pour les categories principales : type energie et type usage.\n",
        "\n",
        "Par exemple Electricité > Gaz naturel > Chauffage Urbain etc\n",
        "\n",
        "ou Chauffage > Eau chaude > Fioul etc\n",
        "\n",
        "\n",
        "Nous vous laissons faire autres"
      ],
      "metadata": {
        "id": "c7A4LxWT0Tux"
      }
    },
    {
      "cell_type": "code",
      "source": [
        "frequence('type_energie_principale_chauffage')"
      ],
      "metadata": {
        "colab": {
          "base_uri": "https://localhost:8080/"
        },
        "id": "Vke95Pk_0tWI",
        "outputId": "0ee0ac8e-ce9e-4804-9747-931195495830"
      },
      "execution_count": null,
      "outputs": [
        {
          "output_type": "stream",
          "name": "stdout",
          "text": [
            "[('', 4511), ('Électricité', 705), ('Gaz naturel', 252), ('Réseau de Chauffage urbain', 33), ('Fioul domestique', 24), ('autre combustible fossile', 21), ('Bois – Granulés (pellets) ou briquettes', 4), ('Bois – Bûches', 1), ('GPL', 1), ('Propane', 1)]\n"
          ]
        }
      ]
    },
    {
      "cell_type": "code",
      "source": [
        "frequence('type_usage_energie_n_1')"
      ],
      "metadata": {
        "colab": {
          "base_uri": "https://localhost:8080/"
        },
        "id": "IdIV7PAQ0w_9",
        "outputId": "39c9e467-4cd5-4b4b-a609-b4ab0fb5a12f"
      },
      "execution_count": null,
      "outputs": [
        {
          "output_type": "stream",
          "name": "stdout",
          "text": [
            "[(\"périmètre de l'usage inconnu\", 4156), ('Chauffage', 900), ('Eau Chaude sanitaire', 208), ('Eclairage', 89), ('Ascenseur(s)', 58), ('', 49), ('Autres usages', 42), ('Refroidissement', 31), ('auxiliaires et ventilation', 8), ('Bureautique', 7), (\"Production d'électricité à demeure\", 5)]\n"
          ]
        }
      ]
    },
    {
      "cell_type": "markdown",
      "source": [
        "On peut alors definir le dictionnaire suivant pour le type d'energie qui concernera les variables : type_energie_principale_chauffage, type_energie_n_1, type_energie_n_2, type_energie_n_3\n"
      ],
      "metadata": {
        "id": "q35d1z8E06Iu"
      }
    },
    {
      "cell_type": "code",
      "source": [
        "map_type_energie = {\n",
        "    \"non renseigné\": -1,\n",
        "    \"Électricité\": 1,\n",
        "    \"Électricité d'origine renouvelable utilisée dans le bâtiment\": 1,\n",
        "    \"Gaz naturel\": 2,\n",
        "    \"Butane\": 2,\n",
        "    \"Propane\": 2,\n",
        "    \"GPL\": 2,\n",
        "    \"Fioul domestique\": 3,\n",
        "    \"Réseau de Chauffage urbain\": 4,\n",
        "    \"Charbon\": 5,\n",
        "    \"autre combustible fossile\": 5,\n",
        "    \"Bois – Bûches\": 6,\n",
        "    \"Bois – Plaquettes forestières\": 6,\n",
        "    \"Bois – Granulés (pellets) ou briquettes\": 6,\n",
        "    \"Bois – Plaquettes d’industrie\": 6,\n",
        "}"
      ],
      "metadata": {
        "id": "7jyrWDMO1NBC"
      },
      "execution_count": null,
      "outputs": []
    },
    {
      "cell_type": "markdown",
      "source": [
        "Pour l'usage cela concernera les variables : type_usage_energie_n_1, type_usage_energie_n_2, type_usage_energie_n_3\n",
        "\n"
      ],
      "metadata": {
        "id": "MmU2sQiQcd9u"
      }
    },
    {
      "cell_type": "code",
      "source": [
        "# Pour l'usage\n",
        "\n",
        "map_type_usage = {\n",
        "    \"non renseigné\": -1,\n",
        "    \"périmètre de l'usage inconnu\": -1,\n",
        "    \"Chauffage\": 1,\n",
        "    \"Eau Chaude sanitaire\": 2,\n",
        "    \"Eclairage\": 3,\n",
        "    \"Refroidissement\": 4,\n",
        "    \"auxiliaires et ventilation\": 4,\n",
        "    \"Ascenseur(s)\": 5,\n",
        "    \"Autres usages\": 6,\n",
        "    \"Bureautique\": 6,\n",
        "    \"Abonnements\": 6,\n",
        "    \"Production d'électricité à demeure\": 6,\n",
        "}\n"
      ],
      "metadata": {
        "id": "ajHXuQ5GcK_S"
      },
      "execution_count": null,
      "outputs": []
    },
    {
      "cell_type": "markdown",
      "source": [
        "et pour les autres variables categoriques que nous garderons :categorie_erp et secteur_activite:\n"
      ],
      "metadata": {
        "id": "Om72NrMec_bx"
      }
    },
    {
      "cell_type": "code",
      "source": [
        "map_secteur_activite = {\n",
        "    \"autres tertiaires non ERP\": 1,\n",
        "    \"M : Magasins de vente, centres commerciaux\": 2,\n",
        "    \"W : Administrations, banques, bureaux\": 3,\n",
        "    \"locaux d'entreprise (bureaux)\": 4,\n",
        "    \"J : Structures d’accueil pour personnes âgées ou personnes handicapées\": 5,\n",
        "    \"N : Restaurants et débits de boisson\": 6,\n",
        "    \"U : Établissements de soins\": 7,\n",
        "    \"GHW : Bureaux\": 8,\n",
        "    \"R : Établissements d’éveil, d’enseignement, de formation, centres de vacances, centres de loisirs sans hébergement\": 9,\n",
        "    \"O : Hôtels et pensions de famille\": 10,\n",
        "    \"GHZ : Usage mixte\": 11,\n",
        "    \"X : Établissements sportifs couverts\": 12,\n",
        "    \"L : Salles d'auditions, de conférences, de réunions, de spectacles ou à usage multiple\": 13,\n",
        "    \"T : Salles d'exposition à vocation commerciale\": 14,\n",
        "    \"P : Salles de danse et salles de jeux\": 15,\n",
        "    \"GHR : Enseignement\": 16,\n",
        "    \"V : Établissements de divers cultes\": 17,\n",
        "    \"S : Bibliothèques, centres de documentation\": 18,\n",
        "    \"OA : Hôtels-restaurants d'Altitude\": 19,\n",
        "    \"GHU : Usage sanitaire\": 20,\n",
        "    \"PA : Établissements de Plein Air\": 21,\n",
        "    \"GHA : Habitation\": 22,\n",
        "    \"GHO : Hôtel\": 23,\n",
        "    \"Y : Musées\": 24,\n",
        "    \"PS : Parcs de Stationnement couverts\": 25,\n",
        "    \"GHTC : tour de contrôle\": 26,\n",
        "    \"REF : REFuges de montagne\": 27,\n",
        "    \"GA : Gares Accessibles au public (chemins de fer, téléphériques, remonte-pentes...)\": 28,\n",
        "    \"CTS : Chapiteaux, Tentes et Structures toile\": 29,\n",
        "    \"GHS : Dépôt d'archives\": 30,\n",
        "}\n"
      ],
      "metadata": {
        "id": "wxkhdvWldJJ4"
      },
      "execution_count": null,
      "outputs": []
    },
    {
      "cell_type": "code",
      "source": [
        "map_categorie_erp = {\n",
        "    \"1ère Catégorie\": 1,\n",
        "    \"2ème Catégorie\": 2,\n",
        "    \"3ème Catégorie\": 3,\n",
        "    \"4ème Catégorie\": 4,\n",
        "    \"5ème Catégorie\": 5,\n",
        "}\n"
      ],
      "metadata": {
        "id": "Hy3e13vfeFex"
      },
      "execution_count": null,
      "outputs": []
    },
    {
      "cell_type": "markdown",
      "source": [
        "Et pour finir la periode de construction\n"
      ],
      "metadata": {
        "id": "8LZRJ2m7ekcq"
      }
    },
    {
      "cell_type": "code",
      "source": [
        "map_periode_construction = {\n",
        "    \"avant 1948\": 0,\n",
        "    \"1948-1974\": 1,\n",
        "    \"1975-1977\": 2,\n",
        "    \"1978-1982\": 3,\n",
        "    \"1983-1988\": 4,\n",
        "    \"1989-2000\": 5,\n",
        "    \"2001-2005\": 6,\n",
        "    \"2006-2012\": 7,\n",
        "    \"2013-2021\": 8,\n",
        "    \"après 2021\": 9,\n",
        "}\n"
      ],
      "metadata": {
        "id": "ZMGJnneMew1B"
      },
      "execution_count": null,
      "outputs": []
    },
    {
      "cell_type": "markdown",
      "source": [
        "Pour la variable cible, la conversion est directe"
      ],
      "metadata": {
        "id": "ITxL2lrA1NUz"
      }
    },
    {
      "cell_type": "code",
      "source": [
        "map_target = {\"A\": 1, \"B\": 2, \"C\": 3, \"D\": 4, \"E\": 5, \"F\": 6, \"G\": 7}"
      ],
      "metadata": {
        "id": "WXD81RdTfGJC"
      },
      "execution_count": null,
      "outputs": []
    },
    {
      "cell_type": "markdown",
      "source": [
        "Pour convertir ensuite les variables il suffit d'appliquer les dictionnaires aux bonnes colonnes"
      ],
      "metadata": {
        "id": "zDu7vQPC1XB7"
      }
    },
    {
      "cell_type": "code",
      "source": [
        "def encode_categorical_with_map(data, column, mapping, default_unknown=\"\"):\n",
        "    valid_values = list(mapping.keys())\n",
        "    # id unknown values\n",
        "    data.loc[data[column].isin(valid_values), column] = default_unknown\n",
        "    # always cast missing values as -1\n",
        "    mapping[default_unknown] = -1\n",
        "    # encode\n",
        "    data[column] = data[column].apply(lambda d: mapping[d])\n",
        "    return data[col]\n"
      ],
      "metadata": {
        "id": "ZbmIJX59fYHc"
      },
      "execution_count": null,
      "outputs": []
    },
    {
      "cell_type": "markdown",
      "source": [
        "Et donc nous avons"
      ],
      "metadata": {
        "id": "hnto2igBiIuo"
      }
    },
    {
      "cell_type": "code",
      "source": [
        "mappings = [map_periode_construction,map_secteur_activite, map_type_energie, map_type_energie ,map_type_usage]\n",
        "\n",
        "\n",
        "for col, mapping in zip(columns_categorical, mappings):\n",
        "    data[col] = encode_categorical_with_map(data, col, mapping)"
      ],
      "metadata": {
        "id": "U-Au4XXZiH43"
      },
      "execution_count": null,
      "outputs": []
    },
    {
      "cell_type": "code",
      "source": [
        "data[target] = encode_categorical_with_map(data, target, map_target)"
      ],
      "metadata": {
        "id": "0s-sbAM9k78t"
      },
      "execution_count": null,
      "outputs": []
    },
    {
      "cell_type": "markdown",
      "source": [
        "La dataframe est maintenant entierement numerisé aussi bien pour les colonnes d'entrainement que pour la variable cible. Il n;y a que l'ID: \"n_ndp\" qui reste comme string.\n",
        "\n",
        "Dans la suite du projet nous gardons cette ID _au cas ou_"
      ],
      "metadata": {
        "id": "t8fjXGnHkdcj"
      }
    },
    {
      "cell_type": "code",
      "source": [
        "data[train_columns].head()"
      ],
      "metadata": {
        "colab": {
          "base_uri": "https://localhost:8080/",
          "height": 226
        },
        "id": "PVXwAFrbflmr",
        "outputId": "b0e54739-cb4c-4c33-aa3a-41beee52fb81"
      },
      "execution_count": null,
      "outputs": [
        {
          "output_type": "execute_result",
          "data": {
            "text/plain": [
              "    version_dpe  periode_construction  secteur_activite  \\\n",
              "4           2.2                    -1                -1   \n",
              "6           1.0                    -1                -1   \n",
              "9           2.3                    -1                -1   \n",
              "10          2.1                    -1                -1   \n",
              "13          2.1                    -1                -1   \n",
              "\n",
              "    type_energie_principale_chauffage  type_energie_n_1  \\\n",
              "4                                  -1                -1   \n",
              "6                                  -1                -1   \n",
              "9                                  -1                -1   \n",
              "10                                 -1                -1   \n",
              "13                                 -1                -1   \n",
              "\n",
              "    type_usage_energie_n_1  surface_utile  conso_kwhep_m2_an  \\\n",
              "4                       -1            100                186   \n",
              "6                       -1            110                159   \n",
              "9                       -1            100                281   \n",
              "10                      -1            100                230   \n",
              "13                      -1            100                 58   \n",
              "\n",
              "    conso_e_finale_energie_n_1  \n",
              "4                        10684  \n",
              "6                         7622  \n",
              "9                        16887  \n",
              "10                       18930  \n",
              "13                        3197  "
            ],
            "text/html": [
              "\n",
              "  <div id=\"df-2707ef25-4700-4963-aecc-0ce91f017707\" class=\"colab-df-container\">\n",
              "    <div>\n",
              "<style scoped>\n",
              "    .dataframe tbody tr th:only-of-type {\n",
              "        vertical-align: middle;\n",
              "    }\n",
              "\n",
              "    .dataframe tbody tr th {\n",
              "        vertical-align: top;\n",
              "    }\n",
              "\n",
              "    .dataframe thead th {\n",
              "        text-align: right;\n",
              "    }\n",
              "</style>\n",
              "<table border=\"1\" class=\"dataframe\">\n",
              "  <thead>\n",
              "    <tr style=\"text-align: right;\">\n",
              "      <th></th>\n",
              "      <th>version_dpe</th>\n",
              "      <th>periode_construction</th>\n",
              "      <th>secteur_activite</th>\n",
              "      <th>type_energie_principale_chauffage</th>\n",
              "      <th>type_energie_n_1</th>\n",
              "      <th>type_usage_energie_n_1</th>\n",
              "      <th>surface_utile</th>\n",
              "      <th>conso_kwhep_m2_an</th>\n",
              "      <th>conso_e_finale_energie_n_1</th>\n",
              "    </tr>\n",
              "  </thead>\n",
              "  <tbody>\n",
              "    <tr>\n",
              "      <th>4</th>\n",
              "      <td>2.2</td>\n",
              "      <td>-1</td>\n",
              "      <td>-1</td>\n",
              "      <td>-1</td>\n",
              "      <td>-1</td>\n",
              "      <td>-1</td>\n",
              "      <td>100</td>\n",
              "      <td>186</td>\n",
              "      <td>10684</td>\n",
              "    </tr>\n",
              "    <tr>\n",
              "      <th>6</th>\n",
              "      <td>1.0</td>\n",
              "      <td>-1</td>\n",
              "      <td>-1</td>\n",
              "      <td>-1</td>\n",
              "      <td>-1</td>\n",
              "      <td>-1</td>\n",
              "      <td>110</td>\n",
              "      <td>159</td>\n",
              "      <td>7622</td>\n",
              "    </tr>\n",
              "    <tr>\n",
              "      <th>9</th>\n",
              "      <td>2.3</td>\n",
              "      <td>-1</td>\n",
              "      <td>-1</td>\n",
              "      <td>-1</td>\n",
              "      <td>-1</td>\n",
              "      <td>-1</td>\n",
              "      <td>100</td>\n",
              "      <td>281</td>\n",
              "      <td>16887</td>\n",
              "    </tr>\n",
              "    <tr>\n",
              "      <th>10</th>\n",
              "      <td>2.1</td>\n",
              "      <td>-1</td>\n",
              "      <td>-1</td>\n",
              "      <td>-1</td>\n",
              "      <td>-1</td>\n",
              "      <td>-1</td>\n",
              "      <td>100</td>\n",
              "      <td>230</td>\n",
              "      <td>18930</td>\n",
              "    </tr>\n",
              "    <tr>\n",
              "      <th>13</th>\n",
              "      <td>2.1</td>\n",
              "      <td>-1</td>\n",
              "      <td>-1</td>\n",
              "      <td>-1</td>\n",
              "      <td>-1</td>\n",
              "      <td>-1</td>\n",
              "      <td>100</td>\n",
              "      <td>58</td>\n",
              "      <td>3197</td>\n",
              "    </tr>\n",
              "  </tbody>\n",
              "</table>\n",
              "</div>\n",
              "    <div class=\"colab-df-buttons\">\n",
              "\n",
              "  <div class=\"colab-df-container\">\n",
              "    <button class=\"colab-df-convert\" onclick=\"convertToInteractive('df-2707ef25-4700-4963-aecc-0ce91f017707')\"\n",
              "            title=\"Convert this dataframe to an interactive table.\"\n",
              "            style=\"display:none;\">\n",
              "\n",
              "  <svg xmlns=\"http://www.w3.org/2000/svg\" height=\"24px\" viewBox=\"0 -960 960 960\">\n",
              "    <path d=\"M120-120v-720h720v720H120Zm60-500h600v-160H180v160Zm220 220h160v-160H400v160Zm0 220h160v-160H400v160ZM180-400h160v-160H180v160Zm440 0h160v-160H620v160ZM180-180h160v-160H180v160Zm440 0h160v-160H620v160Z\"/>\n",
              "  </svg>\n",
              "    </button>\n",
              "\n",
              "  <style>\n",
              "    .colab-df-container {\n",
              "      display:flex;\n",
              "      gap: 12px;\n",
              "    }\n",
              "\n",
              "    .colab-df-convert {\n",
              "      background-color: #E8F0FE;\n",
              "      border: none;\n",
              "      border-radius: 50%;\n",
              "      cursor: pointer;\n",
              "      display: none;\n",
              "      fill: #1967D2;\n",
              "      height: 32px;\n",
              "      padding: 0 0 0 0;\n",
              "      width: 32px;\n",
              "    }\n",
              "\n",
              "    .colab-df-convert:hover {\n",
              "      background-color: #E2EBFA;\n",
              "      box-shadow: 0px 1px 2px rgba(60, 64, 67, 0.3), 0px 1px 3px 1px rgba(60, 64, 67, 0.15);\n",
              "      fill: #174EA6;\n",
              "    }\n",
              "\n",
              "    .colab-df-buttons div {\n",
              "      margin-bottom: 4px;\n",
              "    }\n",
              "\n",
              "    [theme=dark] .colab-df-convert {\n",
              "      background-color: #3B4455;\n",
              "      fill: #D2E3FC;\n",
              "    }\n",
              "\n",
              "    [theme=dark] .colab-df-convert:hover {\n",
              "      background-color: #434B5C;\n",
              "      box-shadow: 0px 1px 3px 1px rgba(0, 0, 0, 0.15);\n",
              "      filter: drop-shadow(0px 1px 2px rgba(0, 0, 0, 0.3));\n",
              "      fill: #FFFFFF;\n",
              "    }\n",
              "  </style>\n",
              "\n",
              "    <script>\n",
              "      const buttonEl =\n",
              "        document.querySelector('#df-2707ef25-4700-4963-aecc-0ce91f017707 button.colab-df-convert');\n",
              "      buttonEl.style.display =\n",
              "        google.colab.kernel.accessAllowed ? 'block' : 'none';\n",
              "\n",
              "      async function convertToInteractive(key) {\n",
              "        const element = document.querySelector('#df-2707ef25-4700-4963-aecc-0ce91f017707');\n",
              "        const dataTable =\n",
              "          await google.colab.kernel.invokeFunction('convertToInteractive',\n",
              "                                                    [key], {});\n",
              "        if (!dataTable) return;\n",
              "\n",
              "        const docLinkHtml = 'Like what you see? Visit the ' +\n",
              "          '<a target=\"_blank\" href=https://colab.research.google.com/notebooks/data_table.ipynb>data table notebook</a>'\n",
              "          + ' to learn more about interactive tables.';\n",
              "        element.innerHTML = '';\n",
              "        dataTable['output_type'] = 'display_data';\n",
              "        await google.colab.output.renderOutput(dataTable, element);\n",
              "        const docLink = document.createElement('div');\n",
              "        docLink.innerHTML = docLinkHtml;\n",
              "        element.appendChild(docLink);\n",
              "      }\n",
              "    </script>\n",
              "  </div>\n",
              "\n",
              "\n",
              "<div id=\"df-c53de0c6-1918-41eb-ab89-e7421c6f9268\">\n",
              "  <button class=\"colab-df-quickchart\" onclick=\"quickchart('df-c53de0c6-1918-41eb-ab89-e7421c6f9268')\"\n",
              "            title=\"Suggest charts\"\n",
              "            style=\"display:none;\">\n",
              "\n",
              "<svg xmlns=\"http://www.w3.org/2000/svg\" height=\"24px\"viewBox=\"0 0 24 24\"\n",
              "     width=\"24px\">\n",
              "    <g>\n",
              "        <path d=\"M19 3H5c-1.1 0-2 .9-2 2v14c0 1.1.9 2 2 2h14c1.1 0 2-.9 2-2V5c0-1.1-.9-2-2-2zM9 17H7v-7h2v7zm4 0h-2V7h2v10zm4 0h-2v-4h2v4z\"/>\n",
              "    </g>\n",
              "</svg>\n",
              "  </button>\n",
              "\n",
              "<style>\n",
              "  .colab-df-quickchart {\n",
              "      --bg-color: #E8F0FE;\n",
              "      --fill-color: #1967D2;\n",
              "      --hover-bg-color: #E2EBFA;\n",
              "      --hover-fill-color: #174EA6;\n",
              "      --disabled-fill-color: #AAA;\n",
              "      --disabled-bg-color: #DDD;\n",
              "  }\n",
              "\n",
              "  [theme=dark] .colab-df-quickchart {\n",
              "      --bg-color: #3B4455;\n",
              "      --fill-color: #D2E3FC;\n",
              "      --hover-bg-color: #434B5C;\n",
              "      --hover-fill-color: #FFFFFF;\n",
              "      --disabled-bg-color: #3B4455;\n",
              "      --disabled-fill-color: #666;\n",
              "  }\n",
              "\n",
              "  .colab-df-quickchart {\n",
              "    background-color: var(--bg-color);\n",
              "    border: none;\n",
              "    border-radius: 50%;\n",
              "    cursor: pointer;\n",
              "    display: none;\n",
              "    fill: var(--fill-color);\n",
              "    height: 32px;\n",
              "    padding: 0;\n",
              "    width: 32px;\n",
              "  }\n",
              "\n",
              "  .colab-df-quickchart:hover {\n",
              "    background-color: var(--hover-bg-color);\n",
              "    box-shadow: 0 1px 2px rgba(60, 64, 67, 0.3), 0 1px 3px 1px rgba(60, 64, 67, 0.15);\n",
              "    fill: var(--button-hover-fill-color);\n",
              "  }\n",
              "\n",
              "  .colab-df-quickchart-complete:disabled,\n",
              "  .colab-df-quickchart-complete:disabled:hover {\n",
              "    background-color: var(--disabled-bg-color);\n",
              "    fill: var(--disabled-fill-color);\n",
              "    box-shadow: none;\n",
              "  }\n",
              "\n",
              "  .colab-df-spinner {\n",
              "    border: 2px solid var(--fill-color);\n",
              "    border-color: transparent;\n",
              "    border-bottom-color: var(--fill-color);\n",
              "    animation:\n",
              "      spin 1s steps(1) infinite;\n",
              "  }\n",
              "\n",
              "  @keyframes spin {\n",
              "    0% {\n",
              "      border-color: transparent;\n",
              "      border-bottom-color: var(--fill-color);\n",
              "      border-left-color: var(--fill-color);\n",
              "    }\n",
              "    20% {\n",
              "      border-color: transparent;\n",
              "      border-left-color: var(--fill-color);\n",
              "      border-top-color: var(--fill-color);\n",
              "    }\n",
              "    30% {\n",
              "      border-color: transparent;\n",
              "      border-left-color: var(--fill-color);\n",
              "      border-top-color: var(--fill-color);\n",
              "      border-right-color: var(--fill-color);\n",
              "    }\n",
              "    40% {\n",
              "      border-color: transparent;\n",
              "      border-right-color: var(--fill-color);\n",
              "      border-top-color: var(--fill-color);\n",
              "    }\n",
              "    60% {\n",
              "      border-color: transparent;\n",
              "      border-right-color: var(--fill-color);\n",
              "    }\n",
              "    80% {\n",
              "      border-color: transparent;\n",
              "      border-right-color: var(--fill-color);\n",
              "      border-bottom-color: var(--fill-color);\n",
              "    }\n",
              "    90% {\n",
              "      border-color: transparent;\n",
              "      border-bottom-color: var(--fill-color);\n",
              "    }\n",
              "  }\n",
              "</style>\n",
              "\n",
              "  <script>\n",
              "    async function quickchart(key) {\n",
              "      const quickchartButtonEl =\n",
              "        document.querySelector('#' + key + ' button');\n",
              "      quickchartButtonEl.disabled = true;  // To prevent multiple clicks.\n",
              "      quickchartButtonEl.classList.add('colab-df-spinner');\n",
              "      try {\n",
              "        const charts = await google.colab.kernel.invokeFunction(\n",
              "            'suggestCharts', [key], {});\n",
              "      } catch (error) {\n",
              "        console.error('Error during call to suggestCharts:', error);\n",
              "      }\n",
              "      quickchartButtonEl.classList.remove('colab-df-spinner');\n",
              "      quickchartButtonEl.classList.add('colab-df-quickchart-complete');\n",
              "    }\n",
              "    (() => {\n",
              "      let quickchartButtonEl =\n",
              "        document.querySelector('#df-c53de0c6-1918-41eb-ab89-e7421c6f9268 button');\n",
              "      quickchartButtonEl.style.display =\n",
              "        google.colab.kernel.accessAllowed ? 'block' : 'none';\n",
              "    })();\n",
              "  </script>\n",
              "</div>\n",
              "    </div>\n",
              "  </div>\n"
            ],
            "application/vnd.google.colaboratory.intrinsic+json": {
              "type": "dataframe",
              "summary": "{\n  \"name\": \"data[train_columns]\",\n  \"rows\": 5,\n  \"fields\": [\n    {\n      \"column\": \"version_dpe\",\n      \"properties\": {\n        \"dtype\": \"number\",\n        \"std\": 0.5319774431308155,\n        \"min\": 1.0,\n        \"max\": 2.3,\n        \"num_unique_values\": 4,\n        \"samples\": [\n          1.0,\n          2.1,\n          2.2\n        ],\n        \"semantic_type\": \"\",\n        \"description\": \"\"\n      }\n    },\n    {\n      \"column\": \"periode_construction\",\n      \"properties\": {\n        \"dtype\": \"number\",\n        \"std\": 0,\n        \"min\": -1,\n        \"max\": -1,\n        \"num_unique_values\": 1,\n        \"samples\": [\n          -1\n        ],\n        \"semantic_type\": \"\",\n        \"description\": \"\"\n      }\n    },\n    {\n      \"column\": \"secteur_activite\",\n      \"properties\": {\n        \"dtype\": \"number\",\n        \"std\": 0,\n        \"min\": -1,\n        \"max\": -1,\n        \"num_unique_values\": 1,\n        \"samples\": [\n          -1\n        ],\n        \"semantic_type\": \"\",\n        \"description\": \"\"\n      }\n    },\n    {\n      \"column\": \"type_energie_principale_chauffage\",\n      \"properties\": {\n        \"dtype\": \"number\",\n        \"std\": 0,\n        \"min\": -1,\n        \"max\": -1,\n        \"num_unique_values\": 1,\n        \"samples\": [\n          -1\n        ],\n        \"semantic_type\": \"\",\n        \"description\": \"\"\n      }\n    },\n    {\n      \"column\": \"type_energie_n_1\",\n      \"properties\": {\n        \"dtype\": \"number\",\n        \"std\": 0,\n        \"min\": -1,\n        \"max\": -1,\n        \"num_unique_values\": 1,\n        \"samples\": [\n          -1\n        ],\n        \"semantic_type\": \"\",\n        \"description\": \"\"\n      }\n    },\n    {\n      \"column\": \"type_usage_energie_n_1\",\n      \"properties\": {\n        \"dtype\": \"number\",\n        \"std\": 0,\n        \"min\": -1,\n        \"max\": -1,\n        \"num_unique_values\": 1,\n        \"samples\": [\n          -1\n        ],\n        \"semantic_type\": \"\",\n        \"description\": \"\"\n      }\n    },\n    {\n      \"column\": \"surface_utile\",\n      \"properties\": {\n        \"dtype\": \"number\",\n        \"std\": 4,\n        \"min\": 100,\n        \"max\": 110,\n        \"num_unique_values\": 2,\n        \"samples\": [\n          110\n        ],\n        \"semantic_type\": \"\",\n        \"description\": \"\"\n      }\n    },\n    {\n      \"column\": \"conso_kwhep_m2_an\",\n      \"properties\": {\n        \"dtype\": \"number\",\n        \"std\": 83,\n        \"min\": 58,\n        \"max\": 281,\n        \"num_unique_values\": 5,\n        \"samples\": [\n          159\n        ],\n        \"semantic_type\": \"\",\n        \"description\": \"\"\n      }\n    },\n    {\n      \"column\": \"conso_e_finale_energie_n_1\",\n      \"properties\": {\n        \"dtype\": \"number\",\n        \"std\": 6497,\n        \"min\": 3197,\n        \"max\": 18930,\n        \"num_unique_values\": 5,\n        \"samples\": [\n          7622\n        ],\n        \"semantic_type\": \"\",\n        \"description\": \"\"\n      }\n    }\n  ]\n}"
            }
          },
          "metadata": {},
          "execution_count": 163
        }
      ]
    },
    {
      "cell_type": "code",
      "source": [
        "data[target].value_counts()"
      ],
      "metadata": {
        "colab": {
          "base_uri": "https://localhost:8080/"
        },
        "id": "Ya4By8a6k1_O",
        "outputId": "503767ab-cbab-4c05-e458-bf5953341724"
      },
      "execution_count": null,
      "outputs": [
        {
          "output_type": "execute_result",
          "data": {
            "text/plain": [
              "etiquette_dpe\n",
              "-1    5553\n",
              "Name: count, dtype: int64"
            ]
          },
          "metadata": {},
          "execution_count": 165
        }
      ]
    },
    {
      "cell_type": "markdown",
      "source": [
        "### Conclusion\n",
        "les données sont ...\n",
        "- P features\n",
        "- une variable cible\n",
        "- N echantillons"
      ],
      "metadata": {
        "id": "BnW1lWp11vz7"
      }
    },
    {
      "cell_type": "markdown",
      "source": [
        "# Training\n",
        "\n",
        "Passons maitenant a la phase d'entrainement du modele. On importe les librairies necessaires de scikit-learn"
      ],
      "metadata": {
        "id": "dh4fjxLwoBj7"
      }
    },
    {
      "cell_type": "code",
      "source": [
        "from sklearn.model_selection import train_test_split, GridSearchCV, KFold\n",
        "from sklearn.ensemble import RandomForestClassifier\n",
        "from sklearn.metrics import classification_report, accuracy_score, roc_auc_score"
      ],
      "metadata": {
        "id": "s1LIrJSZoFmv"
      },
      "execution_count": null,
      "outputs": []
    },
    {
      "cell_type": "code",
      "source": [
        "# # load data\n",
        "# input_file = output_file\n",
        "# data = pd.read_csv(input_file)\n",
        "# # shuffle\n",
        "# data = data.sample(frac=1, random_state=808).reset_index(drop=True)\n"
      ],
      "metadata": {
        "id": "mvqThdfFoIdX"
      },
      "execution_count": null,
      "outputs": []
    },
    {
      "cell_type": "markdown",
      "source": [
        "comme d'habitude on split le ataset en une partie d'entrainement et une de test"
      ],
      "metadata": {
        "id": "CNIKeIe_1-Ty"
      }
    },
    {
      "cell_type": "code",
      "source": [
        "# Assuming the last column is the target variable\n",
        "X = data.iloc[:, :-1]  # Features\n",
        "y = data.iloc[:, -1]  # Target variable\n",
        "assert y.name == \"etiquette_dpe\"\n",
        "\n",
        "# Split the data into training and testing sets\n",
        "X_train, X_test, y_train, y_test = train_test_split(\n",
        "    X, y, test_size=0.2, random_state=808\n",
        ")\n",
        "\n",
        "X_train.drop(columns=[\"n_dpe\"], inplace=True)\n",
        "id_test = list(X_test.n_dpe)\n",
        "X_test.drop(columns=[\"n_dpe\"], inplace=True)\n"
      ],
      "metadata": {
        "id": "oEUB1WreoNwE"
      },
      "execution_count": null,
      "outputs": []
    },
    {
      "cell_type": "code",
      "source": [
        "    # Initialize the model\n",
        "    rf = RandomForestClassifier()\n"
      ],
      "metadata": {
        "id": "z1SahFMqoRkB"
      },
      "execution_count": null,
      "outputs": []
    },
    {
      "cell_type": "code",
      "source": [
        "    # Define the parameter grid\n",
        "    param_grid = {\n",
        "        \"n_estimators\": [200, 300],  # Number of trees\n",
        "        \"max_depth\": [10],  # Maximum depth of the trees\n",
        "        \"min_samples_leaf\": [1, 5],  # Maximum depth of the trees\n",
        "    }\n",
        "\n",
        "    # Setup GridSearchCV with k-fold cross-validation\n",
        "    cv = KFold(n_splits=3, random_state=84, shuffle=True)\n",
        "\n",
        "    grid_search = GridSearchCV(\n",
        "        estimator=rf, param_grid=param_grid, cv=cv, scoring=\"accuracy\", verbose=1\n",
        "    )\n"
      ],
      "metadata": {
        "id": "NWTPeqH-oT-w"
      },
      "execution_count": null,
      "outputs": []
    },
    {
      "cell_type": "code",
      "source": [
        "    # Fit the model\n",
        "    grid_search.fit(X_train, y_train)\n"
      ],
      "metadata": {
        "colab": {
          "base_uri": "https://localhost:8080/",
          "height": 136
        },
        "id": "svVUWcOwoW6x",
        "outputId": "344f7e02-9ae8-42a8-8a1b-49dcd2aef7c6"
      },
      "execution_count": null,
      "outputs": [
        {
          "output_type": "stream",
          "name": "stdout",
          "text": [
            "Fitting 3 folds for each of 4 candidates, totalling 12 fits\n"
          ]
        },
        {
          "output_type": "execute_result",
          "data": {
            "text/plain": [
              "GridSearchCV(cv=KFold(n_splits=3, random_state=84, shuffle=True),\n",
              "             estimator=RandomForestClassifier(),\n",
              "             param_grid={'max_depth': [10], 'min_samples_leaf': [1, 5],\n",
              "                         'n_estimators': [200, 300]},\n",
              "             scoring='accuracy', verbose=1)"
            ],
            "text/html": [
              "<style>#sk-container-id-1 {color: black;background-color: white;}#sk-container-id-1 pre{padding: 0;}#sk-container-id-1 div.sk-toggleable {background-color: white;}#sk-container-id-1 label.sk-toggleable__label {cursor: pointer;display: block;width: 100%;margin-bottom: 0;padding: 0.3em;box-sizing: border-box;text-align: center;}#sk-container-id-1 label.sk-toggleable__label-arrow:before {content: \"▸\";float: left;margin-right: 0.25em;color: #696969;}#sk-container-id-1 label.sk-toggleable__label-arrow:hover:before {color: black;}#sk-container-id-1 div.sk-estimator:hover label.sk-toggleable__label-arrow:before {color: black;}#sk-container-id-1 div.sk-toggleable__content {max-height: 0;max-width: 0;overflow: hidden;text-align: left;background-color: #f0f8ff;}#sk-container-id-1 div.sk-toggleable__content pre {margin: 0.2em;color: black;border-radius: 0.25em;background-color: #f0f8ff;}#sk-container-id-1 input.sk-toggleable__control:checked~div.sk-toggleable__content {max-height: 200px;max-width: 100%;overflow: auto;}#sk-container-id-1 input.sk-toggleable__control:checked~label.sk-toggleable__label-arrow:before {content: \"▾\";}#sk-container-id-1 div.sk-estimator input.sk-toggleable__control:checked~label.sk-toggleable__label {background-color: #d4ebff;}#sk-container-id-1 div.sk-label input.sk-toggleable__control:checked~label.sk-toggleable__label {background-color: #d4ebff;}#sk-container-id-1 input.sk-hidden--visually {border: 0;clip: rect(1px 1px 1px 1px);clip: rect(1px, 1px, 1px, 1px);height: 1px;margin: -1px;overflow: hidden;padding: 0;position: absolute;width: 1px;}#sk-container-id-1 div.sk-estimator {font-family: monospace;background-color: #f0f8ff;border: 1px dotted black;border-radius: 0.25em;box-sizing: border-box;margin-bottom: 0.5em;}#sk-container-id-1 div.sk-estimator:hover {background-color: #d4ebff;}#sk-container-id-1 div.sk-parallel-item::after {content: \"\";width: 100%;border-bottom: 1px solid gray;flex-grow: 1;}#sk-container-id-1 div.sk-label:hover label.sk-toggleable__label {background-color: #d4ebff;}#sk-container-id-1 div.sk-serial::before {content: \"\";position: absolute;border-left: 1px solid gray;box-sizing: border-box;top: 0;bottom: 0;left: 50%;z-index: 0;}#sk-container-id-1 div.sk-serial {display: flex;flex-direction: column;align-items: center;background-color: white;padding-right: 0.2em;padding-left: 0.2em;position: relative;}#sk-container-id-1 div.sk-item {position: relative;z-index: 1;}#sk-container-id-1 div.sk-parallel {display: flex;align-items: stretch;justify-content: center;background-color: white;position: relative;}#sk-container-id-1 div.sk-item::before, #sk-container-id-1 div.sk-parallel-item::before {content: \"\";position: absolute;border-left: 1px solid gray;box-sizing: border-box;top: 0;bottom: 0;left: 50%;z-index: -1;}#sk-container-id-1 div.sk-parallel-item {display: flex;flex-direction: column;z-index: 1;position: relative;background-color: white;}#sk-container-id-1 div.sk-parallel-item:first-child::after {align-self: flex-end;width: 50%;}#sk-container-id-1 div.sk-parallel-item:last-child::after {align-self: flex-start;width: 50%;}#sk-container-id-1 div.sk-parallel-item:only-child::after {width: 0;}#sk-container-id-1 div.sk-dashed-wrapped {border: 1px dashed gray;margin: 0 0.4em 0.5em 0.4em;box-sizing: border-box;padding-bottom: 0.4em;background-color: white;}#sk-container-id-1 div.sk-label label {font-family: monospace;font-weight: bold;display: inline-block;line-height: 1.2em;}#sk-container-id-1 div.sk-label-container {text-align: center;}#sk-container-id-1 div.sk-container {/* jupyter's `normalize.less` sets `[hidden] { display: none; }` but bootstrap.min.css set `[hidden] { display: none !important; }` so we also need the `!important` here to be able to override the default hidden behavior on the sphinx rendered scikit-learn.org. See: https://github.com/scikit-learn/scikit-learn/issues/21755 */display: inline-block !important;position: relative;}#sk-container-id-1 div.sk-text-repr-fallback {display: none;}</style><div id=\"sk-container-id-1\" class=\"sk-top-container\"><div class=\"sk-text-repr-fallback\"><pre>GridSearchCV(cv=KFold(n_splits=3, random_state=84, shuffle=True),\n",
              "             estimator=RandomForestClassifier(),\n",
              "             param_grid={&#x27;max_depth&#x27;: [10], &#x27;min_samples_leaf&#x27;: [1, 5],\n",
              "                         &#x27;n_estimators&#x27;: [200, 300]},\n",
              "             scoring=&#x27;accuracy&#x27;, verbose=1)</pre><b>In a Jupyter environment, please rerun this cell to show the HTML representation or trust the notebook. <br />On GitHub, the HTML representation is unable to render, please try loading this page with nbviewer.org.</b></div><div class=\"sk-container\" hidden><div class=\"sk-item sk-dashed-wrapped\"><div class=\"sk-label-container\"><div class=\"sk-label sk-toggleable\"><input class=\"sk-toggleable__control sk-hidden--visually\" id=\"sk-estimator-id-1\" type=\"checkbox\" ><label for=\"sk-estimator-id-1\" class=\"sk-toggleable__label sk-toggleable__label-arrow\">GridSearchCV</label><div class=\"sk-toggleable__content\"><pre>GridSearchCV(cv=KFold(n_splits=3, random_state=84, shuffle=True),\n",
              "             estimator=RandomForestClassifier(),\n",
              "             param_grid={&#x27;max_depth&#x27;: [10], &#x27;min_samples_leaf&#x27;: [1, 5],\n",
              "                         &#x27;n_estimators&#x27;: [200, 300]},\n",
              "             scoring=&#x27;accuracy&#x27;, verbose=1)</pre></div></div></div><div class=\"sk-parallel\"><div class=\"sk-parallel-item\"><div class=\"sk-item\"><div class=\"sk-label-container\"><div class=\"sk-label sk-toggleable\"><input class=\"sk-toggleable__control sk-hidden--visually\" id=\"sk-estimator-id-2\" type=\"checkbox\" ><label for=\"sk-estimator-id-2\" class=\"sk-toggleable__label sk-toggleable__label-arrow\">estimator: RandomForestClassifier</label><div class=\"sk-toggleable__content\"><pre>RandomForestClassifier()</pre></div></div></div><div class=\"sk-serial\"><div class=\"sk-item\"><div class=\"sk-estimator sk-toggleable\"><input class=\"sk-toggleable__control sk-hidden--visually\" id=\"sk-estimator-id-3\" type=\"checkbox\" ><label for=\"sk-estimator-id-3\" class=\"sk-toggleable__label sk-toggleable__label-arrow\">RandomForestClassifier</label><div class=\"sk-toggleable__content\"><pre>RandomForestClassifier()</pre></div></div></div></div></div></div></div></div></div></div>"
            ]
          },
          "metadata": {},
          "execution_count": 20
        }
      ]
    },
    {
      "cell_type": "code",
      "source": [
        "    # Best parameters and best score\n",
        "    print(f\"Best parameters: {grid_search.best_params_}\")\n",
        "    print(f\"Best cross-validation score: {grid_search.best_score_}\")\n",
        "    print(f\"Best model: {grid_search.best_estimator_}\")\n",
        "\n",
        "    # Evaluate on the test set\n",
        "    yhat = grid_search.predict(X_test)\n",
        "    print(classification_report(y_test, yhat))\n",
        "\n"
      ],
      "metadata": {
        "colab": {
          "base_uri": "https://localhost:8080/"
        },
        "id": "u5g7EkdOoaNM",
        "outputId": "0d1c8546-6b86-4ad8-884c-e5f179eff88f"
      },
      "execution_count": null,
      "outputs": [
        {
          "output_type": "stream",
          "name": "stdout",
          "text": [
            "Best parameters: {'max_depth': 10, 'min_samples_leaf': 1, 'n_estimators': 300}\n",
            "Best cross-validation score: 0.8218103181958604\n",
            "Best model: RandomForestClassifier(max_depth=10, n_estimators=300)\n",
            "              precision    recall  f1-score   support\n",
            "\n",
            "           1       0.99      0.87      0.92       105\n",
            "           2       0.83      0.86      0.84       121\n",
            "           3       0.93      0.82      0.87       291\n",
            "           4       0.82      0.85      0.83       270\n",
            "           5       0.69      0.89      0.78       147\n",
            "           6       0.90      0.72      0.80        64\n",
            "           7       0.89      0.90      0.90       124\n",
            "\n",
            "    accuracy                           0.85      1122\n",
            "   macro avg       0.86      0.84      0.85      1122\n",
            "weighted avg       0.86      0.85      0.85      1122\n",
            "\n"
          ]
        }
      ]
    },
    {
      "cell_type": "code",
      "source": [
        "# regroup into predictions dataframe\n",
        "probabilities = grid_search.predict_proba(X_test)\n",
        "\n",
        "predictions = pd.DataFrame()\n",
        "predictions[\"id\"] = id_test\n",
        "predictions[\"prob\"] = np.max(probabilities, axis=1)\n",
        "predictions[\"yhat\"] = yhat\n",
        "predictions[\"y\"] = y_test.values\n",
        "print(predictions.head())\n"
      ],
      "metadata": {
        "colab": {
          "base_uri": "https://localhost:8080/"
        },
        "id": "UrnDW5X9ochH",
        "outputId": "e5865b8d-45f6-45f9-b7b9-f5f70015f91a"
      },
      "execution_count": null,
      "outputs": [
        {
          "output_type": "stream",
          "name": "stdout",
          "text": [
            "              id   prob  yhat  y\n",
            "0  2113T0707016A 1.0000     1  1\n",
            "1  2373T4274354S 0.7016     4  4\n",
            "2  2142T1010760P 0.4683     3  3\n",
            "3  2244T0873273T 0.4456     5  4\n",
            "4  2294T1585219F 0.9323     3  3\n"
          ]
        }
      ]
    },
    {
      "cell_type": "code",
      "source": [
        "    # feature importance\n",
        "    feature_importances = grid_search.best_estimator_.feature_importances_\n",
        "    feature_names = X_train.columns\n",
        "\n",
        "    # Create a dictionary mapping feature names to their importance\n",
        "    importance_dict = dict(zip(feature_names, feature_importances))\n",
        "    importance_dict = dict(\n",
        "        sorted(importance_dict.items(), key=lambda item: item[1], reverse=True)\n",
        "    )\n",
        "\n",
        "    print(importance_dict)\n",
        "\n"
      ],
      "metadata": {
        "colab": {
          "base_uri": "https://localhost:8080/"
        },
        "id": "G1vCvZIzpB2M",
        "outputId": "b0138464-7087-42ed-abe7-2a489c03d662"
      },
      "execution_count": null,
      "outputs": [
        {
          "output_type": "stream",
          "name": "stdout",
          "text": [
            "{'conso_kwhep_m2_an': 0.4549981118085486, 'emission_ges_kgco2_m2_an': 0.2297529530166314, 'conso_finale_energie': 0.06971622227648284, 'conso_primaire_energie': 0.06810497358739391, 'frais_annuel_energie': 0.04892797667974759, 'secteur_activite': 0.029974549662307958, 'surface_utile': 0.01973088010602134, 'annee_construction': 0.01712967254261392, 'methode_du_dpe': 0.015321822056583048, 'version_dpe': 0.013908306206751703, 'type_energie_n_1': 0.013734412569784388, 'categorie_erp': 0.007965915746066369, 'type_usage_energie_n_1': 0.005574588670296643, 'type_energie_principale_chauffage': 0.005159615070770455}\n"
          ]
        }
      ]
    }
  ]
}